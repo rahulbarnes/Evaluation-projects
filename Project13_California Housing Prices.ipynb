{
 "cells": [
  {
   "cell_type": "code",
   "execution_count": 1,
   "metadata": {},
   "outputs": [],
   "source": [
    "import numpy as np\n",
    "import pandas as pd\n",
    "import matplotlib.pyplot as plt\n",
    "import seaborn as sns\n",
    "import matplotlib.pyplot as plt\n",
    "from sklearn.preprocessing import LabelEncoder\n",
    "from sklearn import preprocessing\n",
    "from sklearn.model_selection import cross_val_score\n",
    "from sklearn.model_selection import GridSearchCV\n",
    "from sklearn.model_selection import train_test_split\n",
    "from sklearn.metrics import mean_absolute_error\n",
    "from sklearn.metrics import mean_squared_error\n",
    "from sklearn.metrics import r2_score\n",
    "import warnings\n",
    "warnings.filterwarnings(\"ignore\")"
   ]
  },
  {
   "cell_type": "code",
   "execution_count": 2,
   "metadata": {
    "scrolled": true
   },
   "outputs": [],
   "source": [
    "data=pd.read_csv('California.csv')"
   ]
  },
  {
   "cell_type": "code",
   "execution_count": 3,
   "metadata": {},
   "outputs": [
    {
     "data": {
      "text/plain": [
       "longitude             float64\n",
       "latitude              float64\n",
       "housing_median_age    float64\n",
       "total_rooms           float64\n",
       "total_bedrooms        float64\n",
       "population            float64\n",
       "households            float64\n",
       "median_income         float64\n",
       "median_house_value    float64\n",
       "ocean_proximity        object\n",
       "dtype: object"
      ]
     },
     "execution_count": 3,
     "metadata": {},
     "output_type": "execute_result"
    }
   ],
   "source": [
    "data.dtypes"
   ]
  },
  {
   "cell_type": "code",
   "execution_count": 4,
   "metadata": {},
   "outputs": [
    {
     "name": "stdout",
     "output_type": "stream",
     "text": [
      "longitude               0\n",
      "latitude                0\n",
      "housing_median_age      0\n",
      "total_rooms             0\n",
      "total_bedrooms        207\n",
      "population              0\n",
      "households              0\n",
      "median_income           0\n",
      "median_house_value      0\n",
      "ocean_proximity         0\n",
      "dtype: int64\n"
     ]
    }
   ],
   "source": [
    "print(data.isnull().sum())"
   ]
  },
  {
   "cell_type": "code",
   "execution_count": 5,
   "metadata": {},
   "outputs": [
    {
     "data": {
      "image/png": "[encoded data removed]",
      "text/plain": [
       "<Figure size 432x288 with 1 Axes>"
      ]
     },
     "metadata": {
      "needs_background": "light"
     },
     "output_type": "display_data"
    }
   ],
   "source": [
    "# There are some missing values in the total bedrooms column. This needs to be treated before further analysis can be done.\n",
    "# Mean or median can be used to fill missing values. However, this would be based on how many outlier values are present in the column data.\n",
    "# Checking outliers\n",
    "sns.boxplot(x='total_bedrooms', data=data)\n",
    "plt.show()\n",
    "# The box plot shows that there too many outliers in the column data. This can heavily influence the values, in case missing values are filled using mean. Hence, median can be used to fill missing values."
   ]
  },
  {
   "cell_type": "code",
   "execution_count": 6,
   "metadata": {},
   "outputs": [
    {
     "data": {
      "text/html": [
       "<div>\n",
       "<style scoped>\n",
       "    .dataframe tbody tr th:only-of-type {\n",
       "        vertical-align: middle;\n",
       "    }\n",
       "\n",
       "    .dataframe tbody tr th {\n",
       "        vertical-align: top;\n",
       "    }\n",
       "\n",
       "    .dataframe thead th {\n",
       "        text-align: right;\n",
       "    }\n",
       "</style>\n",
       "<table border=\"1\" class=\"dataframe\">\n",
       "  <thead>\n",
       "    <tr style=\"text-align: right;\">\n",
       "      <th></th>\n",
       "      <th>longitude</th>\n",
       "      <th>latitude</th>\n",
       "      <th>housing_median_age</th>\n",
       "      <th>total_rooms</th>\n",
       "      <th>total_bedrooms</th>\n",
       "      <th>population</th>\n",
       "      <th>households</th>\n",
       "      <th>median_income</th>\n",
       "      <th>median_house_value</th>\n",
       "      <th>ocean_proximity</th>\n",
       "    </tr>\n",
       "  </thead>\n",
       "  <tbody>\n",
       "    <tr>\n",
       "      <td>0</td>\n",
       "      <td>-122.23</td>\n",
       "      <td>37.88</td>\n",
       "      <td>41.0</td>\n",
       "      <td>880.0</td>\n",
       "      <td>129.0</td>\n",
       "      <td>322.0</td>\n",
       "      <td>126.0</td>\n",
       "      <td>8.3252</td>\n",
       "      <td>452600.0</td>\n",
       "      <td>NEAR BAY</td>\n",
       "    </tr>\n",
       "    <tr>\n",
       "      <td>1</td>\n",
       "      <td>-122.22</td>\n",
       "      <td>37.86</td>\n",
       "      <td>21.0</td>\n",
       "      <td>7099.0</td>\n",
       "      <td>1106.0</td>\n",
       "      <td>2401.0</td>\n",
       "      <td>1138.0</td>\n",
       "      <td>8.3014</td>\n",
       "      <td>358500.0</td>\n",
       "      <td>NEAR BAY</td>\n",
       "    </tr>\n",
       "    <tr>\n",
       "      <td>2</td>\n",
       "      <td>-122.24</td>\n",
       "      <td>37.85</td>\n",
       "      <td>52.0</td>\n",
       "      <td>1467.0</td>\n",
       "      <td>190.0</td>\n",
       "      <td>496.0</td>\n",
       "      <td>177.0</td>\n",
       "      <td>7.2574</td>\n",
       "      <td>352100.0</td>\n",
       "      <td>NEAR BAY</td>\n",
       "    </tr>\n",
       "    <tr>\n",
       "      <td>3</td>\n",
       "      <td>-122.25</td>\n",
       "      <td>37.85</td>\n",
       "      <td>52.0</td>\n",
       "      <td>1274.0</td>\n",
       "      <td>235.0</td>\n",
       "      <td>558.0</td>\n",
       "      <td>219.0</td>\n",
       "      <td>5.6431</td>\n",
       "      <td>341300.0</td>\n",
       "      <td>NEAR BAY</td>\n",
       "    </tr>\n",
       "    <tr>\n",
       "      <td>4</td>\n",
       "      <td>-122.25</td>\n",
       "      <td>37.85</td>\n",
       "      <td>52.0</td>\n",
       "      <td>1627.0</td>\n",
       "      <td>280.0</td>\n",
       "      <td>565.0</td>\n",
       "      <td>259.0</td>\n",
       "      <td>3.8462</td>\n",
       "      <td>342200.0</td>\n",
       "      <td>NEAR BAY</td>\n",
       "    </tr>\n",
       "    <tr>\n",
       "      <td>...</td>\n",
       "      <td>...</td>\n",
       "      <td>...</td>\n",
       "      <td>...</td>\n",
       "      <td>...</td>\n",
       "      <td>...</td>\n",
       "      <td>...</td>\n",
       "      <td>...</td>\n",
       "      <td>...</td>\n",
       "      <td>...</td>\n",
       "      <td>...</td>\n",
       "    </tr>\n",
       "    <tr>\n",
       "      <td>20635</td>\n",
       "      <td>-121.09</td>\n",
       "      <td>39.48</td>\n",
       "      <td>25.0</td>\n",
       "      <td>1665.0</td>\n",
       "      <td>374.0</td>\n",
       "      <td>845.0</td>\n",
       "      <td>330.0</td>\n",
       "      <td>1.5603</td>\n",
       "      <td>78100.0</td>\n",
       "      <td>INLAND</td>\n",
       "    </tr>\n",
       "    <tr>\n",
       "      <td>20636</td>\n",
       "      <td>-121.21</td>\n",
       "      <td>39.49</td>\n",
       "      <td>18.0</td>\n",
       "      <td>697.0</td>\n",
       "      <td>150.0</td>\n",
       "      <td>356.0</td>\n",
       "      <td>114.0</td>\n",
       "      <td>2.5568</td>\n",
       "      <td>77100.0</td>\n",
       "      <td>INLAND</td>\n",
       "    </tr>\n",
       "    <tr>\n",
       "      <td>20637</td>\n",
       "      <td>-121.22</td>\n",
       "      <td>39.43</td>\n",
       "      <td>17.0</td>\n",
       "      <td>2254.0</td>\n",
       "      <td>485.0</td>\n",
       "      <td>1007.0</td>\n",
       "      <td>433.0</td>\n",
       "      <td>1.7000</td>\n",
       "      <td>92300.0</td>\n",
       "      <td>INLAND</td>\n",
       "    </tr>\n",
       "    <tr>\n",
       "      <td>20638</td>\n",
       "      <td>-121.32</td>\n",
       "      <td>39.43</td>\n",
       "      <td>18.0</td>\n",
       "      <td>1860.0</td>\n",
       "      <td>409.0</td>\n",
       "      <td>741.0</td>\n",
       "      <td>349.0</td>\n",
       "      <td>1.8672</td>\n",
       "      <td>84700.0</td>\n",
       "      <td>INLAND</td>\n",
       "    </tr>\n",
       "    <tr>\n",
       "      <td>20639</td>\n",
       "      <td>-121.24</td>\n",
       "      <td>39.37</td>\n",
       "      <td>16.0</td>\n",
       "      <td>2785.0</td>\n",
       "      <td>616.0</td>\n",
       "      <td>1387.0</td>\n",
       "      <td>530.0</td>\n",
       "      <td>2.3886</td>\n",
       "      <td>89400.0</td>\n",
       "      <td>INLAND</td>\n",
       "    </tr>\n",
       "  </tbody>\n",
       "</table>\n",
       "<p>20640 rows × 10 columns</p>\n",
       "</div>"
      ],
      "text/plain": [
       "       longitude  latitude  housing_median_age  total_rooms  total_bedrooms  \\\n",
       "0        -122.23     37.88                41.0        880.0           129.0   \n",
       "1        -122.22     37.86                21.0       7099.0          1106.0   \n",
       "2        -122.24     37.85                52.0       1467.0           190.0   \n",
       "3        -122.25     37.85                52.0       1274.0           235.0   \n",
       "4        -122.25     37.85                52.0       1627.0           280.0   \n",
       "...          ...       ...                 ...          ...             ...   \n",
       "20635    -121.09     39.48                25.0       1665.0           374.0   \n",
       "20636    -121.21     39.49                18.0        697.0           150.0   \n",
       "20637    -121.22     39.43                17.0       2254.0           485.0   \n",
       "20638    -121.32     39.43                18.0       1860.0           409.0   \n",
       "20639    -121.24     39.37                16.0       2785.0           616.0   \n",
       "\n",
       "       population  households  median_income  median_house_value  \\\n",
       "0           322.0       126.0         8.3252            452600.0   \n",
       "1          2401.0      1138.0         8.3014            358500.0   \n",
       "2           496.0       177.0         7.2574            352100.0   \n",
       "3           558.0       219.0         5.6431            341300.0   \n",
       "4           565.0       259.0         3.8462            342200.0   \n",
       "...           ...         ...            ...                 ...   \n",
       "20635       845.0       330.0         1.5603             78100.0   \n",
       "20636       356.0       114.0         2.5568             77100.0   \n",
       "20637      1007.0       433.0         1.7000             92300.0   \n",
       "20638       741.0       349.0         1.8672             84700.0   \n",
       "20639      1387.0       530.0         2.3886             89400.0   \n",
       "\n",
       "      ocean_proximity  \n",
       "0            NEAR BAY  \n",
       "1            NEAR BAY  \n",
       "2            NEAR BAY  \n",
       "3            NEAR BAY  \n",
       "4            NEAR BAY  \n",
       "...               ...  \n",
       "20635          INLAND  \n",
       "20636          INLAND  \n",
       "20637          INLAND  \n",
       "20638          INLAND  \n",
       "20639          INLAND  \n",
       "\n",
       "[20640 rows x 10 columns]"
      ]
     },
     "execution_count": 6,
     "metadata": {},
     "output_type": "execute_result"
    }
   ],
   "source": [
    "data['total_bedrooms']=data['total_bedrooms'].fillna(data['total_bedrooms'].median())\n",
    "data"
   ]
  },
  {
   "cell_type": "code",
   "execution_count": 7,
   "metadata": {},
   "outputs": [
    {
     "name": "stdout",
     "output_type": "stream",
     "text": [
      "longitude             0\n",
      "latitude              0\n",
      "housing_median_age    0\n",
      "total_rooms           0\n",
      "total_bedrooms        0\n",
      "population            0\n",
      "households            0\n",
      "median_income         0\n",
      "median_house_value    0\n",
      "ocean_proximity       0\n",
      "dtype: int64\n"
     ]
    }
   ],
   "source": [
    "print(data.isnull().sum())"
   ]
  },
  {
   "cell_type": "code",
   "execution_count": 8,
   "metadata": {
    "scrolled": true
   },
   "outputs": [
    {
     "data": {
      "image/png": "[encoded data removed]",
      "text/plain": [
       "<Figure size 720x360 with 2 Axes>"
      ]
     },
     "metadata": {
      "needs_background": "light"
     },
     "output_type": "display_data"
    }
   ],
   "source": [
    "plt.figure(figsize=(10, 5))\n",
    "corr=data.corr()\n",
    "sns.heatmap(corr, cmap='coolwarm', annot=True)\n",
    "plt.show()\n",
    "# There is a high correlation between house value and income"
   ]
  },
  {
   "cell_type": "code",
   "execution_count": 9,
   "metadata": {
    "scrolled": true
   },
   "outputs": [
    {
     "data": {
      "image/png": "[encoded data removed]",
      "text/plain": [
       "<Figure size 1440x360 with 1 Axes>"
      ]
     },
     "metadata": {
      "needs_background": "light"
     },
     "output_type": "display_data"
    }
   ],
   "source": [
    "# Analyzing the distribution of data for dependent variable 'median house price'\n",
    "# There is a sudden increase in median value at >= 5,00,000 which can be largely due to the presence of outliers\n",
    "plt.figure(figsize=(20,5))\n",
    "sns.set_color_codes(palette=\"muted\")\n",
    "sns.distplot(data['median_house_value'],color='r')\n",
    "plt.show()"
   ]
  },
  {
   "cell_type": "code",
   "execution_count": 10,
   "metadata": {},
   "outputs": [
    {
     "name": "stdout",
     "output_type": "stream",
     "text": [
      "longitude                  3.79000\n",
      "latitude                   3.78000\n",
      "housing_median_age        19.00000\n",
      "total_rooms             1700.25000\n",
      "total_bedrooms           346.25000\n",
      "population               938.00000\n",
      "households               325.00000\n",
      "median_income              2.17985\n",
      "median_house_value    145125.00000\n",
      "dtype: float64\n"
     ]
    }
   ],
   "source": [
    "# Removing outliers from the data\n",
    "Q1=data.quantile(0.25)\n",
    "Q3=data.quantile(0.75)\n",
    "IQR=Q3-Q1\n",
    "print(IQR)"
   ]
  },
  {
   "cell_type": "code",
   "execution_count": 11,
   "metadata": {},
   "outputs": [
    {
     "data": {
      "text/plain": [
       "(17609, 10)"
      ]
     },
     "execution_count": 11,
     "metadata": {},
     "output_type": "execute_result"
    }
   ],
   "source": [
    "data=data[~((data < (Q1-1.5*IQR)) | (data > (Q3+1.5*IQR))).any(axis=1)]\n",
    "data.shape"
   ]
  },
  {
   "cell_type": "code",
   "execution_count": 12,
   "metadata": {
    "scrolled": true
   },
   "outputs": [
    {
     "data": {
      "image/png": "[encoded data removed]",
      "text/plain": [
       "<Figure size 1440x360 with 1 Axes>"
      ]
     },
     "metadata": {
      "needs_background": "light"
     },
     "output_type": "display_data"
    }
   ],
   "source": [
    "# The outliers have been removed from the data\n",
    "plt.figure(figsize=(20,5))\n",
    "sns.set_color_codes(palette=\"muted\")\n",
    "sns.distplot(data['median_house_value'],color='r')\n",
    "plt.show()"
   ]
  },
  {
   "cell_type": "code",
   "execution_count": 13,
   "metadata": {},
   "outputs": [
    {
     "data": {
      "image/png": "[encoded data removed]",
      "text/plain": [
       "<Figure size 432x288 with 1 Axes>"
      ]
     },
     "metadata": {
      "needs_background": "light"
     },
     "output_type": "display_data"
    }
   ],
   "source": [
    "# Analyzing the house prices based on different locations\n",
    "# The scatter plot indicates that house prices varies depending on the location\n",
    "sns.scatterplot(x='longitude', y='latitude', hue=data['median_house_value']/50, data=data)\n",
    "plt.show()"
   ]
  },
  {
   "cell_type": "code",
   "execution_count": 14,
   "metadata": {},
   "outputs": [],
   "source": [
    "# The dataset contains 'total_rooms' for each area which only shows the total number of rooms in a particular location. However, a more specific indicator would be number of rooms per household.\n",
    "data['rooms_household']=data['total_rooms']/data['households']\n",
    "data['bedrooms_household']=data['total_bedrooms']/data['households']"
   ]
  },
  {
   "cell_type": "code",
   "execution_count": 15,
   "metadata": {},
   "outputs": [
    {
     "data": {
      "text/html": [
       "<div>\n",
       "<style scoped>\n",
       "    .dataframe tbody tr th:only-of-type {\n",
       "        vertical-align: middle;\n",
       "    }\n",
       "\n",
       "    .dataframe tbody tr th {\n",
       "        vertical-align: top;\n",
       "    }\n",
       "\n",
       "    .dataframe thead th {\n",
       "        text-align: right;\n",
       "    }\n",
       "</style>\n",
       "<table border=\"1\" class=\"dataframe\">\n",
       "  <thead>\n",
       "    <tr style=\"text-align: right;\">\n",
       "      <th></th>\n",
       "      <th>longitude</th>\n",
       "      <th>latitude</th>\n",
       "      <th>housing_median_age</th>\n",
       "      <th>population</th>\n",
       "      <th>households</th>\n",
       "      <th>median_income</th>\n",
       "      <th>median_house_value</th>\n",
       "      <th>ocean_proximity</th>\n",
       "      <th>rooms_household</th>\n",
       "      <th>bedrooms_household</th>\n",
       "    </tr>\n",
       "  </thead>\n",
       "  <tbody>\n",
       "    <tr>\n",
       "      <td>2</td>\n",
       "      <td>-122.24</td>\n",
       "      <td>37.85</td>\n",
       "      <td>52.0</td>\n",
       "      <td>496.0</td>\n",
       "      <td>177.0</td>\n",
       "      <td>7.2574</td>\n",
       "      <td>352100.0</td>\n",
       "      <td>NEAR BAY</td>\n",
       "      <td>8.288136</td>\n",
       "      <td>1.073446</td>\n",
       "    </tr>\n",
       "    <tr>\n",
       "      <td>3</td>\n",
       "      <td>-122.25</td>\n",
       "      <td>37.85</td>\n",
       "      <td>52.0</td>\n",
       "      <td>558.0</td>\n",
       "      <td>219.0</td>\n",
       "      <td>5.6431</td>\n",
       "      <td>341300.0</td>\n",
       "      <td>NEAR BAY</td>\n",
       "      <td>5.817352</td>\n",
       "      <td>1.073059</td>\n",
       "    </tr>\n",
       "    <tr>\n",
       "      <td>4</td>\n",
       "      <td>-122.25</td>\n",
       "      <td>37.85</td>\n",
       "      <td>52.0</td>\n",
       "      <td>565.0</td>\n",
       "      <td>259.0</td>\n",
       "      <td>3.8462</td>\n",
       "      <td>342200.0</td>\n",
       "      <td>NEAR BAY</td>\n",
       "      <td>6.281853</td>\n",
       "      <td>1.081081</td>\n",
       "    </tr>\n",
       "    <tr>\n",
       "      <td>5</td>\n",
       "      <td>-122.25</td>\n",
       "      <td>37.85</td>\n",
       "      <td>52.0</td>\n",
       "      <td>413.0</td>\n",
       "      <td>193.0</td>\n",
       "      <td>4.0368</td>\n",
       "      <td>269700.0</td>\n",
       "      <td>NEAR BAY</td>\n",
       "      <td>4.761658</td>\n",
       "      <td>1.103627</td>\n",
       "    </tr>\n",
       "    <tr>\n",
       "      <td>6</td>\n",
       "      <td>-122.25</td>\n",
       "      <td>37.84</td>\n",
       "      <td>52.0</td>\n",
       "      <td>1094.0</td>\n",
       "      <td>514.0</td>\n",
       "      <td>3.6591</td>\n",
       "      <td>299200.0</td>\n",
       "      <td>NEAR BAY</td>\n",
       "      <td>4.931907</td>\n",
       "      <td>0.951362</td>\n",
       "    </tr>\n",
       "    <tr>\n",
       "      <td>...</td>\n",
       "      <td>...</td>\n",
       "      <td>...</td>\n",
       "      <td>...</td>\n",
       "      <td>...</td>\n",
       "      <td>...</td>\n",
       "      <td>...</td>\n",
       "      <td>...</td>\n",
       "      <td>...</td>\n",
       "      <td>...</td>\n",
       "      <td>...</td>\n",
       "    </tr>\n",
       "    <tr>\n",
       "      <td>20635</td>\n",
       "      <td>-121.09</td>\n",
       "      <td>39.48</td>\n",
       "      <td>25.0</td>\n",
       "      <td>845.0</td>\n",
       "      <td>330.0</td>\n",
       "      <td>1.5603</td>\n",
       "      <td>78100.0</td>\n",
       "      <td>INLAND</td>\n",
       "      <td>5.045455</td>\n",
       "      <td>1.133333</td>\n",
       "    </tr>\n",
       "    <tr>\n",
       "      <td>20636</td>\n",
       "      <td>-121.21</td>\n",
       "      <td>39.49</td>\n",
       "      <td>18.0</td>\n",
       "      <td>356.0</td>\n",
       "      <td>114.0</td>\n",
       "      <td>2.5568</td>\n",
       "      <td>77100.0</td>\n",
       "      <td>INLAND</td>\n",
       "      <td>6.114035</td>\n",
       "      <td>1.315789</td>\n",
       "    </tr>\n",
       "    <tr>\n",
       "      <td>20637</td>\n",
       "      <td>-121.22</td>\n",
       "      <td>39.43</td>\n",
       "      <td>17.0</td>\n",
       "      <td>1007.0</td>\n",
       "      <td>433.0</td>\n",
       "      <td>1.7000</td>\n",
       "      <td>92300.0</td>\n",
       "      <td>INLAND</td>\n",
       "      <td>5.205543</td>\n",
       "      <td>1.120092</td>\n",
       "    </tr>\n",
       "    <tr>\n",
       "      <td>20638</td>\n",
       "      <td>-121.32</td>\n",
       "      <td>39.43</td>\n",
       "      <td>18.0</td>\n",
       "      <td>741.0</td>\n",
       "      <td>349.0</td>\n",
       "      <td>1.8672</td>\n",
       "      <td>84700.0</td>\n",
       "      <td>INLAND</td>\n",
       "      <td>5.329513</td>\n",
       "      <td>1.171920</td>\n",
       "    </tr>\n",
       "    <tr>\n",
       "      <td>20639</td>\n",
       "      <td>-121.24</td>\n",
       "      <td>39.37</td>\n",
       "      <td>16.0</td>\n",
       "      <td>1387.0</td>\n",
       "      <td>530.0</td>\n",
       "      <td>2.3886</td>\n",
       "      <td>89400.0</td>\n",
       "      <td>INLAND</td>\n",
       "      <td>5.254717</td>\n",
       "      <td>1.162264</td>\n",
       "    </tr>\n",
       "  </tbody>\n",
       "</table>\n",
       "<p>17609 rows × 10 columns</p>\n",
       "</div>"
      ],
      "text/plain": [
       "       longitude  latitude  housing_median_age  population  households  \\\n",
       "2        -122.24     37.85                52.0       496.0       177.0   \n",
       "3        -122.25     37.85                52.0       558.0       219.0   \n",
       "4        -122.25     37.85                52.0       565.0       259.0   \n",
       "5        -122.25     37.85                52.0       413.0       193.0   \n",
       "6        -122.25     37.84                52.0      1094.0       514.0   \n",
       "...          ...       ...                 ...         ...         ...   \n",
       "20635    -121.09     39.48                25.0       845.0       330.0   \n",
       "20636    -121.21     39.49                18.0       356.0       114.0   \n",
       "20637    -121.22     39.43                17.0      1007.0       433.0   \n",
       "20638    -121.32     39.43                18.0       741.0       349.0   \n",
       "20639    -121.24     39.37                16.0      1387.0       530.0   \n",
       "\n",
       "       median_income  median_house_value ocean_proximity  rooms_household  \\\n",
       "2             7.2574            352100.0        NEAR BAY         8.288136   \n",
       "3             5.6431            341300.0        NEAR BAY         5.817352   \n",
       "4             3.8462            342200.0        NEAR BAY         6.281853   \n",
       "5             4.0368            269700.0        NEAR BAY         4.761658   \n",
       "6             3.6591            299200.0        NEAR BAY         4.931907   \n",
       "...              ...                 ...             ...              ...   \n",
       "20635         1.5603             78100.0          INLAND         5.045455   \n",
       "20636         2.5568             77100.0          INLAND         6.114035   \n",
       "20637         1.7000             92300.0          INLAND         5.205543   \n",
       "20638         1.8672             84700.0          INLAND         5.329513   \n",
       "20639         2.3886             89400.0          INLAND         5.254717   \n",
       "\n",
       "       bedrooms_household  \n",
       "2                1.073446  \n",
       "3                1.073059  \n",
       "4                1.081081  \n",
       "5                1.103627  \n",
       "6                0.951362  \n",
       "...                   ...  \n",
       "20635            1.133333  \n",
       "20636            1.315789  \n",
       "20637            1.120092  \n",
       "20638            1.171920  \n",
       "20639            1.162264  \n",
       "\n",
       "[17609 rows x 10 columns]"
      ]
     },
     "execution_count": 15,
     "metadata": {},
     "output_type": "execute_result"
    }
   ],
   "source": [
    "# Dropping the total_rooms column\n",
    "data.drop(columns=['total_rooms', 'total_bedrooms'], inplace=True)\n",
    "data"
   ]
  },
  {
   "cell_type": "code",
   "execution_count": 16,
   "metadata": {},
   "outputs": [
    {
     "data": {
      "text/plain": [
       "longitude             -0.268725\n",
       "latitude               0.429243\n",
       "housing_median_age     0.013163\n",
       "population             0.623995\n",
       "households             0.586066\n",
       "median_income          0.567187\n",
       "median_house_value     0.766829\n",
       "rooms_household       18.641748\n",
       "bedrooms_household    29.569896\n",
       "dtype: float64"
      ]
     },
     "execution_count": 16,
     "metadata": {},
     "output_type": "execute_result"
    }
   ],
   "source": [
    "data.skew()"
   ]
  },
  {
   "cell_type": "code",
   "execution_count": 17,
   "metadata": {},
   "outputs": [],
   "source": [
    "x=data.drop(columns=['median_house_value'])\n",
    "y=data['median_house_value']"
   ]
  },
  {
   "cell_type": "code",
   "execution_count": 18,
   "metadata": {},
   "outputs": [],
   "source": [
    "# Removing skewness from data\n",
    "for index in x.skew().index:\n",
    "    if x.skew().loc[index]>0.5:\n",
    "        x[index]=np.log1p(x[index])\n",
    "    if x.skew().loc[index]<-0.5:\n",
    "        x[index]=np.square(x[index])"
   ]
  },
  {
   "cell_type": "code",
   "execution_count": 19,
   "metadata": {},
   "outputs": [
    {
     "data": {
      "text/plain": [
       "longitude            -0.268725\n",
       "latitude              0.429243\n",
       "housing_median_age    0.013163\n",
       "population           -1.062738\n",
       "households           -0.980577\n",
       "median_income        -0.163561\n",
       "rooms_household       1.488902\n",
       "bedrooms_household    8.183546\n",
       "dtype: float64"
      ]
     },
     "execution_count": 19,
     "metadata": {},
     "output_type": "execute_result"
    }
   ],
   "source": [
    "x.skew()"
   ]
  },
  {
   "cell_type": "code",
   "execution_count": 54,
   "metadata": {},
   "outputs": [
    {
     "data": {
      "text/html": [
       "<div>\n",
       "<style scoped>\n",
       "    .dataframe tbody tr th:only-of-type {\n",
       "        vertical-align: middle;\n",
       "    }\n",
       "\n",
       "    .dataframe tbody tr th {\n",
       "        vertical-align: top;\n",
       "    }\n",
       "\n",
       "    .dataframe thead th {\n",
       "        text-align: right;\n",
       "    }\n",
       "</style>\n",
       "<table border=\"1\" class=\"dataframe\">\n",
       "  <thead>\n",
       "    <tr style=\"text-align: right;\">\n",
       "      <th></th>\n",
       "      <th>longitude</th>\n",
       "      <th>latitude</th>\n",
       "      <th>housing_median_age</th>\n",
       "      <th>population</th>\n",
       "      <th>households</th>\n",
       "      <th>median_income</th>\n",
       "      <th>ocean_proximity</th>\n",
       "      <th>rooms_household</th>\n",
       "      <th>bedrooms_household</th>\n",
       "    </tr>\n",
       "  </thead>\n",
       "  <tbody>\n",
       "    <tr>\n",
       "      <td>2</td>\n",
       "      <td>-122.24</td>\n",
       "      <td>37.85</td>\n",
       "      <td>52.0</td>\n",
       "      <td>38.546590</td>\n",
       "      <td>26.850881</td>\n",
       "      <td>2.111110</td>\n",
       "      <td>3</td>\n",
       "      <td>2.228738</td>\n",
       "      <td>0.729212</td>\n",
       "    </tr>\n",
       "    <tr>\n",
       "      <td>3</td>\n",
       "      <td>-122.25</td>\n",
       "      <td>37.85</td>\n",
       "      <td>52.0</td>\n",
       "      <td>40.020167</td>\n",
       "      <td>29.091218</td>\n",
       "      <td>1.893579</td>\n",
       "      <td>3</td>\n",
       "      <td>1.919471</td>\n",
       "      <td>0.729025</td>\n",
       "    </tr>\n",
       "    <tr>\n",
       "      <td>4</td>\n",
       "      <td>-122.25</td>\n",
       "      <td>37.85</td>\n",
       "      <td>52.0</td>\n",
       "      <td>40.177775</td>\n",
       "      <td>30.921180</td>\n",
       "      <td>1.578195</td>\n",
       "      <td>3</td>\n",
       "      <td>1.985385</td>\n",
       "      <td>0.732888</td>\n",
       "    </tr>\n",
       "    <tr>\n",
       "      <td>5</td>\n",
       "      <td>-122.25</td>\n",
       "      <td>37.85</td>\n",
       "      <td>52.0</td>\n",
       "      <td>36.311061</td>\n",
       "      <td>27.750330</td>\n",
       "      <td>1.616771</td>\n",
       "      <td>3</td>\n",
       "      <td>1.751225</td>\n",
       "      <td>0.743663</td>\n",
       "    </tr>\n",
       "    <tr>\n",
       "      <td>6</td>\n",
       "      <td>-122.25</td>\n",
       "      <td>37.84</td>\n",
       "      <td>52.0</td>\n",
       "      <td>48.979137</td>\n",
       "      <td>38.989620</td>\n",
       "      <td>1.538822</td>\n",
       "      <td>3</td>\n",
       "      <td>1.780346</td>\n",
       "      <td>0.668528</td>\n",
       "    </tr>\n",
       "    <tr>\n",
       "      <td>...</td>\n",
       "      <td>...</td>\n",
       "      <td>...</td>\n",
       "      <td>...</td>\n",
       "      <td>...</td>\n",
       "      <td>...</td>\n",
       "      <td>...</td>\n",
       "      <td>...</td>\n",
       "      <td>...</td>\n",
       "      <td>...</td>\n",
       "    </tr>\n",
       "    <tr>\n",
       "      <td>20635</td>\n",
       "      <td>-121.09</td>\n",
       "      <td>39.48</td>\n",
       "      <td>25.0</td>\n",
       "      <td>45.434601</td>\n",
       "      <td>33.664578</td>\n",
       "      <td>0.940124</td>\n",
       "      <td>1</td>\n",
       "      <td>1.799307</td>\n",
       "      <td>0.757686</td>\n",
       "    </tr>\n",
       "    <tr>\n",
       "      <td>20636</td>\n",
       "      <td>-121.21</td>\n",
       "      <td>39.49</td>\n",
       "      <td>18.0</td>\n",
       "      <td>34.547778</td>\n",
       "      <td>22.514381</td>\n",
       "      <td>1.268861</td>\n",
       "      <td>1</td>\n",
       "      <td>1.962070</td>\n",
       "      <td>0.839751</td>\n",
       "    </tr>\n",
       "    <tr>\n",
       "      <td>20637</td>\n",
       "      <td>-121.22</td>\n",
       "      <td>39.43</td>\n",
       "      <td>17.0</td>\n",
       "      <td>47.827231</td>\n",
       "      <td>36.881870</td>\n",
       "      <td>0.993252</td>\n",
       "      <td>1</td>\n",
       "      <td>1.825443</td>\n",
       "      <td>0.751460</td>\n",
       "    </tr>\n",
       "    <tr>\n",
       "      <td>20638</td>\n",
       "      <td>-121.32</td>\n",
       "      <td>39.43</td>\n",
       "      <td>18.0</td>\n",
       "      <td>43.683497</td>\n",
       "      <td>34.315381</td>\n",
       "      <td>1.053336</td>\n",
       "      <td>1</td>\n",
       "      <td>1.845223</td>\n",
       "      <td>0.775611</td>\n",
       "    </tr>\n",
       "    <tr>\n",
       "      <td>20639</td>\n",
       "      <td>-121.24</td>\n",
       "      <td>39.37</td>\n",
       "      <td>16.0</td>\n",
       "      <td>52.354184</td>\n",
       "      <td>39.372638</td>\n",
       "      <td>1.220417</td>\n",
       "      <td>1</td>\n",
       "      <td>1.833336</td>\n",
       "      <td>0.771156</td>\n",
       "    </tr>\n",
       "  </tbody>\n",
       "</table>\n",
       "<p>17609 rows × 9 columns</p>\n",
       "</div>"
      ],
      "text/plain": [
       "       longitude  latitude  housing_median_age  population  households  \\\n",
       "2        -122.24     37.85                52.0   38.546590   26.850881   \n",
       "3        -122.25     37.85                52.0   40.020167   29.091218   \n",
       "4        -122.25     37.85                52.0   40.177775   30.921180   \n",
       "5        -122.25     37.85                52.0   36.311061   27.750330   \n",
       "6        -122.25     37.84                52.0   48.979137   38.989620   \n",
       "...          ...       ...                 ...         ...         ...   \n",
       "20635    -121.09     39.48                25.0   45.434601   33.664578   \n",
       "20636    -121.21     39.49                18.0   34.547778   22.514381   \n",
       "20637    -121.22     39.43                17.0   47.827231   36.881870   \n",
       "20638    -121.32     39.43                18.0   43.683497   34.315381   \n",
       "20639    -121.24     39.37                16.0   52.354184   39.372638   \n",
       "\n",
       "       median_income  ocean_proximity  rooms_household  bedrooms_household  \n",
       "2           2.111110                3         2.228738            0.729212  \n",
       "3           1.893579                3         1.919471            0.729025  \n",
       "4           1.578195                3         1.985385            0.732888  \n",
       "5           1.616771                3         1.751225            0.743663  \n",
       "6           1.538822                3         1.780346            0.668528  \n",
       "...              ...              ...              ...                 ...  \n",
       "20635       0.940124                1         1.799307            0.757686  \n",
       "20636       1.268861                1         1.962070            0.839751  \n",
       "20637       0.993252                1         1.825443            0.751460  \n",
       "20638       1.053336                1         1.845223            0.775611  \n",
       "20639       1.220417                1         1.833336            0.771156  \n",
       "\n",
       "[17609 rows x 9 columns]"
      ]
     },
     "execution_count": 54,
     "metadata": {},
     "output_type": "execute_result"
    }
   ],
   "source": [
    "# There are categorical variables in the dataset\n",
    "le=LabelEncoder()\n",
    "le.fit(x['ocean_proximity'])\n",
    "x['ocean_proximity']=le.transform(x['ocean_proximity'])\n",
    "x"
   ]
  },
  {
   "cell_type": "code",
   "execution_count": 21,
   "metadata": {},
   "outputs": [
    {
     "data": {
      "text/html": [
       "<div>\n",
       "<style scoped>\n",
       "    .dataframe tbody tr th:only-of-type {\n",
       "        vertical-align: middle;\n",
       "    }\n",
       "\n",
       "    .dataframe tbody tr th {\n",
       "        vertical-align: top;\n",
       "    }\n",
       "\n",
       "    .dataframe thead th {\n",
       "        text-align: right;\n",
       "    }\n",
       "</style>\n",
       "<table border=\"1\" class=\"dataframe\">\n",
       "  <thead>\n",
       "    <tr style=\"text-align: right;\">\n",
       "      <th></th>\n",
       "      <th>longitude</th>\n",
       "      <th>latitude</th>\n",
       "      <th>housing_median_age</th>\n",
       "      <th>population</th>\n",
       "      <th>households</th>\n",
       "      <th>median_income</th>\n",
       "      <th>rooms_household</th>\n",
       "      <th>bedrooms_household</th>\n",
       "      <th>ocean_proximity_INLAND</th>\n",
       "      <th>ocean_proximity_ISLAND</th>\n",
       "      <th>ocean_proximity_NEAR BAY</th>\n",
       "      <th>ocean_proximity_NEAR OCEAN</th>\n",
       "    </tr>\n",
       "  </thead>\n",
       "  <tbody>\n",
       "    <tr>\n",
       "      <td>2</td>\n",
       "      <td>-122.24</td>\n",
       "      <td>37.85</td>\n",
       "      <td>52.0</td>\n",
       "      <td>38.546590</td>\n",
       "      <td>26.850881</td>\n",
       "      <td>2.111110</td>\n",
       "      <td>2.228738</td>\n",
       "      <td>0.729212</td>\n",
       "      <td>0</td>\n",
       "      <td>0</td>\n",
       "      <td>1</td>\n",
       "      <td>0</td>\n",
       "    </tr>\n",
       "    <tr>\n",
       "      <td>3</td>\n",
       "      <td>-122.25</td>\n",
       "      <td>37.85</td>\n",
       "      <td>52.0</td>\n",
       "      <td>40.020167</td>\n",
       "      <td>29.091218</td>\n",
       "      <td>1.893579</td>\n",
       "      <td>1.919471</td>\n",
       "      <td>0.729025</td>\n",
       "      <td>0</td>\n",
       "      <td>0</td>\n",
       "      <td>1</td>\n",
       "      <td>0</td>\n",
       "    </tr>\n",
       "    <tr>\n",
       "      <td>4</td>\n",
       "      <td>-122.25</td>\n",
       "      <td>37.85</td>\n",
       "      <td>52.0</td>\n",
       "      <td>40.177775</td>\n",
       "      <td>30.921180</td>\n",
       "      <td>1.578195</td>\n",
       "      <td>1.985385</td>\n",
       "      <td>0.732888</td>\n",
       "      <td>0</td>\n",
       "      <td>0</td>\n",
       "      <td>1</td>\n",
       "      <td>0</td>\n",
       "    </tr>\n",
       "    <tr>\n",
       "      <td>5</td>\n",
       "      <td>-122.25</td>\n",
       "      <td>37.85</td>\n",
       "      <td>52.0</td>\n",
       "      <td>36.311061</td>\n",
       "      <td>27.750330</td>\n",
       "      <td>1.616771</td>\n",
       "      <td>1.751225</td>\n",
       "      <td>0.743663</td>\n",
       "      <td>0</td>\n",
       "      <td>0</td>\n",
       "      <td>1</td>\n",
       "      <td>0</td>\n",
       "    </tr>\n",
       "    <tr>\n",
       "      <td>6</td>\n",
       "      <td>-122.25</td>\n",
       "      <td>37.84</td>\n",
       "      <td>52.0</td>\n",
       "      <td>48.979137</td>\n",
       "      <td>38.989620</td>\n",
       "      <td>1.538822</td>\n",
       "      <td>1.780346</td>\n",
       "      <td>0.668528</td>\n",
       "      <td>0</td>\n",
       "      <td>0</td>\n",
       "      <td>1</td>\n",
       "      <td>0</td>\n",
       "    </tr>\n",
       "    <tr>\n",
       "      <td>...</td>\n",
       "      <td>...</td>\n",
       "      <td>...</td>\n",
       "      <td>...</td>\n",
       "      <td>...</td>\n",
       "      <td>...</td>\n",
       "      <td>...</td>\n",
       "      <td>...</td>\n",
       "      <td>...</td>\n",
       "      <td>...</td>\n",
       "      <td>...</td>\n",
       "      <td>...</td>\n",
       "      <td>...</td>\n",
       "    </tr>\n",
       "    <tr>\n",
       "      <td>20635</td>\n",
       "      <td>-121.09</td>\n",
       "      <td>39.48</td>\n",
       "      <td>25.0</td>\n",
       "      <td>45.434601</td>\n",
       "      <td>33.664578</td>\n",
       "      <td>0.940124</td>\n",
       "      <td>1.799307</td>\n",
       "      <td>0.757686</td>\n",
       "      <td>1</td>\n",
       "      <td>0</td>\n",
       "      <td>0</td>\n",
       "      <td>0</td>\n",
       "    </tr>\n",
       "    <tr>\n",
       "      <td>20636</td>\n",
       "      <td>-121.21</td>\n",
       "      <td>39.49</td>\n",
       "      <td>18.0</td>\n",
       "      <td>34.547778</td>\n",
       "      <td>22.514381</td>\n",
       "      <td>1.268861</td>\n",
       "      <td>1.962070</td>\n",
       "      <td>0.839751</td>\n",
       "      <td>1</td>\n",
       "      <td>0</td>\n",
       "      <td>0</td>\n",
       "      <td>0</td>\n",
       "    </tr>\n",
       "    <tr>\n",
       "      <td>20637</td>\n",
       "      <td>-121.22</td>\n",
       "      <td>39.43</td>\n",
       "      <td>17.0</td>\n",
       "      <td>47.827231</td>\n",
       "      <td>36.881870</td>\n",
       "      <td>0.993252</td>\n",
       "      <td>1.825443</td>\n",
       "      <td>0.751460</td>\n",
       "      <td>1</td>\n",
       "      <td>0</td>\n",
       "      <td>0</td>\n",
       "      <td>0</td>\n",
       "    </tr>\n",
       "    <tr>\n",
       "      <td>20638</td>\n",
       "      <td>-121.32</td>\n",
       "      <td>39.43</td>\n",
       "      <td>18.0</td>\n",
       "      <td>43.683497</td>\n",
       "      <td>34.315381</td>\n",
       "      <td>1.053336</td>\n",
       "      <td>1.845223</td>\n",
       "      <td>0.775611</td>\n",
       "      <td>1</td>\n",
       "      <td>0</td>\n",
       "      <td>0</td>\n",
       "      <td>0</td>\n",
       "    </tr>\n",
       "    <tr>\n",
       "      <td>20639</td>\n",
       "      <td>-121.24</td>\n",
       "      <td>39.37</td>\n",
       "      <td>16.0</td>\n",
       "      <td>52.354184</td>\n",
       "      <td>39.372638</td>\n",
       "      <td>1.220417</td>\n",
       "      <td>1.833336</td>\n",
       "      <td>0.771156</td>\n",
       "      <td>1</td>\n",
       "      <td>0</td>\n",
       "      <td>0</td>\n",
       "      <td>0</td>\n",
       "    </tr>\n",
       "  </tbody>\n",
       "</table>\n",
       "<p>17609 rows × 12 columns</p>\n",
       "</div>"
      ],
      "text/plain": [
       "       longitude  latitude  housing_median_age  population  households  \\\n",
       "2        -122.24     37.85                52.0   38.546590   26.850881   \n",
       "3        -122.25     37.85                52.0   40.020167   29.091218   \n",
       "4        -122.25     37.85                52.0   40.177775   30.921180   \n",
       "5        -122.25     37.85                52.0   36.311061   27.750330   \n",
       "6        -122.25     37.84                52.0   48.979137   38.989620   \n",
       "...          ...       ...                 ...         ...         ...   \n",
       "20635    -121.09     39.48                25.0   45.434601   33.664578   \n",
       "20636    -121.21     39.49                18.0   34.547778   22.514381   \n",
       "20637    -121.22     39.43                17.0   47.827231   36.881870   \n",
       "20638    -121.32     39.43                18.0   43.683497   34.315381   \n",
       "20639    -121.24     39.37                16.0   52.354184   39.372638   \n",
       "\n",
       "       median_income  rooms_household  bedrooms_household  \\\n",
       "2           2.111110         2.228738            0.729212   \n",
       "3           1.893579         1.919471            0.729025   \n",
       "4           1.578195         1.985385            0.732888   \n",
       "5           1.616771         1.751225            0.743663   \n",
       "6           1.538822         1.780346            0.668528   \n",
       "...              ...              ...                 ...   \n",
       "20635       0.940124         1.799307            0.757686   \n",
       "20636       1.268861         1.962070            0.839751   \n",
       "20637       0.993252         1.825443            0.751460   \n",
       "20638       1.053336         1.845223            0.775611   \n",
       "20639       1.220417         1.833336            0.771156   \n",
       "\n",
       "       ocean_proximity_INLAND  ocean_proximity_ISLAND  \\\n",
       "2                           0                       0   \n",
       "3                           0                       0   \n",
       "4                           0                       0   \n",
       "5                           0                       0   \n",
       "6                           0                       0   \n",
       "...                       ...                     ...   \n",
       "20635                       1                       0   \n",
       "20636                       1                       0   \n",
       "20637                       1                       0   \n",
       "20638                       1                       0   \n",
       "20639                       1                       0   \n",
       "\n",
       "       ocean_proximity_NEAR BAY  ocean_proximity_NEAR OCEAN  \n",
       "2                             1                           0  \n",
       "3                             1                           0  \n",
       "4                             1                           0  \n",
       "5                             1                           0  \n",
       "6                             1                           0  \n",
       "...                         ...                         ...  \n",
       "20635                         0                           0  \n",
       "20636                         0                           0  \n",
       "20637                         0                           0  \n",
       "20638                         0                           0  \n",
       "20639                         0                           0  \n",
       "\n",
       "[17609 rows x 12 columns]"
      ]
     },
     "execution_count": 21,
     "metadata": {},
     "output_type": "execute_result"
    }
   ],
   "source": [
    "x=pd.get_dummies(x, drop_first=True)\n",
    "x"
   ]
  },
  {
   "cell_type": "code",
   "execution_count": 22,
   "metadata": {},
   "outputs": [
    {
     "data": {
      "text/html": [
       "<div>\n",
       "<style scoped>\n",
       "    .dataframe tbody tr th:only-of-type {\n",
       "        vertical-align: middle;\n",
       "    }\n",
       "\n",
       "    .dataframe tbody tr th {\n",
       "        vertical-align: top;\n",
       "    }\n",
       "\n",
       "    .dataframe thead th {\n",
       "        text-align: right;\n",
       "    }\n",
       "</style>\n",
       "<table border=\"1\" class=\"dataframe\">\n",
       "  <thead>\n",
       "    <tr style=\"text-align: right;\">\n",
       "      <th></th>\n",
       "      <th>0</th>\n",
       "      <th>1</th>\n",
       "      <th>2</th>\n",
       "      <th>3</th>\n",
       "      <th>4</th>\n",
       "      <th>5</th>\n",
       "      <th>6</th>\n",
       "      <th>7</th>\n",
       "      <th>8</th>\n",
       "      <th>9</th>\n",
       "      <th>10</th>\n",
       "      <th>11</th>\n",
       "    </tr>\n",
       "  </thead>\n",
       "  <tbody>\n",
       "    <tr>\n",
       "      <td>0</td>\n",
       "      <td>-1.314670</td>\n",
       "      <td>0.994033</td>\n",
       "      <td>1.843602</td>\n",
       "      <td>-1.182542</td>\n",
       "      <td>-1.186792</td>\n",
       "      <td>2.003132</td>\n",
       "      <td>1.904137</td>\n",
       "      <td>-0.023346</td>\n",
       "      <td>-0.706956</td>\n",
       "      <td>-0.016853</td>\n",
       "      <td>2.875395</td>\n",
       "      <td>-0.380695</td>\n",
       "    </tr>\n",
       "    <tr>\n",
       "      <td>1</td>\n",
       "      <td>-1.319658</td>\n",
       "      <td>0.994033</td>\n",
       "      <td>1.843602</td>\n",
       "      <td>-1.005969</td>\n",
       "      <td>-0.859742</td>\n",
       "      <td>1.322772</td>\n",
       "      <td>0.485756</td>\n",
       "      <td>-0.025056</td>\n",
       "      <td>-0.706956</td>\n",
       "      <td>-0.016853</td>\n",
       "      <td>2.875395</td>\n",
       "      <td>-0.380695</td>\n",
       "    </tr>\n",
       "    <tr>\n",
       "      <td>2</td>\n",
       "      <td>-1.319658</td>\n",
       "      <td>0.994033</td>\n",
       "      <td>1.843602</td>\n",
       "      <td>-0.987083</td>\n",
       "      <td>-0.592600</td>\n",
       "      <td>0.336364</td>\n",
       "      <td>0.788057</td>\n",
       "      <td>0.010342</td>\n",
       "      <td>-0.706956</td>\n",
       "      <td>-0.016853</td>\n",
       "      <td>2.875395</td>\n",
       "      <td>-0.380695</td>\n",
       "    </tr>\n",
       "    <tr>\n",
       "      <td>3</td>\n",
       "      <td>-1.319658</td>\n",
       "      <td>0.994033</td>\n",
       "      <td>1.843602</td>\n",
       "      <td>-1.450418</td>\n",
       "      <td>-1.055488</td>\n",
       "      <td>0.457016</td>\n",
       "      <td>-0.285865</td>\n",
       "      <td>0.109105</td>\n",
       "      <td>-0.706956</td>\n",
       "      <td>-0.016853</td>\n",
       "      <td>2.875395</td>\n",
       "      <td>-0.380695</td>\n",
       "    </tr>\n",
       "    <tr>\n",
       "      <td>4</td>\n",
       "      <td>-1.319658</td>\n",
       "      <td>0.989418</td>\n",
       "      <td>1.843602</td>\n",
       "      <td>0.067552</td>\n",
       "      <td>0.585250</td>\n",
       "      <td>0.213221</td>\n",
       "      <td>-0.152311</td>\n",
       "      <td>-0.579558</td>\n",
       "      <td>-0.706956</td>\n",
       "      <td>-0.016853</td>\n",
       "      <td>2.875395</td>\n",
       "      <td>-0.380695</td>\n",
       "    </tr>\n",
       "    <tr>\n",
       "      <td>...</td>\n",
       "      <td>...</td>\n",
       "      <td>...</td>\n",
       "      <td>...</td>\n",
       "      <td>...</td>\n",
       "      <td>...</td>\n",
       "      <td>...</td>\n",
       "      <td>...</td>\n",
       "      <td>...</td>\n",
       "      <td>...</td>\n",
       "      <td>...</td>\n",
       "      <td>...</td>\n",
       "      <td>...</td>\n",
       "    </tr>\n",
       "    <tr>\n",
       "      <td>17604</td>\n",
       "      <td>-0.741043</td>\n",
       "      <td>1.746347</td>\n",
       "      <td>-0.368148</td>\n",
       "      <td>-0.357177</td>\n",
       "      <td>-0.192112</td>\n",
       "      <td>-1.659293</td>\n",
       "      <td>-0.065351</td>\n",
       "      <td>0.237632</td>\n",
       "      <td>1.414515</td>\n",
       "      <td>-0.016853</td>\n",
       "      <td>-0.347778</td>\n",
       "      <td>-0.380695</td>\n",
       "    </tr>\n",
       "    <tr>\n",
       "      <td>17605</td>\n",
       "      <td>-0.800900</td>\n",
       "      <td>1.750962</td>\n",
       "      <td>-0.941565</td>\n",
       "      <td>-1.661706</td>\n",
       "      <td>-1.819844</td>\n",
       "      <td>-0.631121</td>\n",
       "      <td>0.681124</td>\n",
       "      <td>0.989809</td>\n",
       "      <td>1.414515</td>\n",
       "      <td>-0.016853</td>\n",
       "      <td>-0.347778</td>\n",
       "      <td>-0.380695</td>\n",
       "    </tr>\n",
       "    <tr>\n",
       "      <td>17606</td>\n",
       "      <td>-0.805888</td>\n",
       "      <td>1.723270</td>\n",
       "      <td>-1.023482</td>\n",
       "      <td>-0.070476</td>\n",
       "      <td>0.277555</td>\n",
       "      <td>-1.493129</td>\n",
       "      <td>0.054517</td>\n",
       "      <td>0.180567</td>\n",
       "      <td>1.414515</td>\n",
       "      <td>-0.016853</td>\n",
       "      <td>-0.347778</td>\n",
       "      <td>-0.380695</td>\n",
       "    </tr>\n",
       "    <tr>\n",
       "      <td>17607</td>\n",
       "      <td>-0.855769</td>\n",
       "      <td>1.723270</td>\n",
       "      <td>-0.941565</td>\n",
       "      <td>-0.567005</td>\n",
       "      <td>-0.097107</td>\n",
       "      <td>-1.305207</td>\n",
       "      <td>0.145235</td>\n",
       "      <td>0.401933</td>\n",
       "      <td>1.414515</td>\n",
       "      <td>-0.016853</td>\n",
       "      <td>-0.347778</td>\n",
       "      <td>-0.380695</td>\n",
       "    </tr>\n",
       "    <tr>\n",
       "      <td>17608</td>\n",
       "      <td>-0.815864</td>\n",
       "      <td>1.695577</td>\n",
       "      <td>-1.105398</td>\n",
       "      <td>0.471972</td>\n",
       "      <td>0.641164</td>\n",
       "      <td>-0.782638</td>\n",
       "      <td>0.090717</td>\n",
       "      <td>0.361095</td>\n",
       "      <td>1.414515</td>\n",
       "      <td>-0.016853</td>\n",
       "      <td>-0.347778</td>\n",
       "      <td>-0.380695</td>\n",
       "    </tr>\n",
       "  </tbody>\n",
       "</table>\n",
       "<p>17609 rows × 12 columns</p>\n",
       "</div>"
      ],
      "text/plain": [
       "              0         1         2         3         4         5         6  \\\n",
       "0     -1.314670  0.994033  1.843602 -1.182542 -1.186792  2.003132  1.904137   \n",
       "1     -1.319658  0.994033  1.843602 -1.005969 -0.859742  1.322772  0.485756   \n",
       "2     -1.319658  0.994033  1.843602 -0.987083 -0.592600  0.336364  0.788057   \n",
       "3     -1.319658  0.994033  1.843602 -1.450418 -1.055488  0.457016 -0.285865   \n",
       "4     -1.319658  0.989418  1.843602  0.067552  0.585250  0.213221 -0.152311   \n",
       "...         ...       ...       ...       ...       ...       ...       ...   \n",
       "17604 -0.741043  1.746347 -0.368148 -0.357177 -0.192112 -1.659293 -0.065351   \n",
       "17605 -0.800900  1.750962 -0.941565 -1.661706 -1.819844 -0.631121  0.681124   \n",
       "17606 -0.805888  1.723270 -1.023482 -0.070476  0.277555 -1.493129  0.054517   \n",
       "17607 -0.855769  1.723270 -0.941565 -0.567005 -0.097107 -1.305207  0.145235   \n",
       "17608 -0.815864  1.695577 -1.105398  0.471972  0.641164 -0.782638  0.090717   \n",
       "\n",
       "              7         8         9        10        11  \n",
       "0     -0.023346 -0.706956 -0.016853  2.875395 -0.380695  \n",
       "1     -0.025056 -0.706956 -0.016853  2.875395 -0.380695  \n",
       "2      0.010342 -0.706956 -0.016853  2.875395 -0.380695  \n",
       "3      0.109105 -0.706956 -0.016853  2.875395 -0.380695  \n",
       "4     -0.579558 -0.706956 -0.016853  2.875395 -0.380695  \n",
       "...         ...       ...       ...       ...       ...  \n",
       "17604  0.237632  1.414515 -0.016853 -0.347778 -0.380695  \n",
       "17605  0.989809  1.414515 -0.016853 -0.347778 -0.380695  \n",
       "17606  0.180567  1.414515 -0.016853 -0.347778 -0.380695  \n",
       "17607  0.401933  1.414515 -0.016853 -0.347778 -0.380695  \n",
       "17608  0.361095  1.414515 -0.016853 -0.347778 -0.380695  \n",
       "\n",
       "[17609 rows x 12 columns]"
      ]
     },
     "execution_count": 22,
     "metadata": {},
     "output_type": "execute_result"
    }
   ],
   "source": [
    "from sklearn.preprocessing import StandardScaler\n",
    "sc=StandardScaler()\n",
    "sc.fit(x)\n",
    "x=sc.transform(x)\n",
    "x=pd.DataFrame(x)\n",
    "x"
   ]
  },
  {
   "cell_type": "code",
   "execution_count": 23,
   "metadata": {},
   "outputs": [],
   "source": [
    "y=np.array(y)\n",
    "y.reshape(-1,1)\n",
    "y=pd.DataFrame(y)"
   ]
  },
  {
   "cell_type": "code",
   "execution_count": 24,
   "metadata": {},
   "outputs": [
    {
     "data": {
      "text/html": [
       "<div>\n",
       "<style scoped>\n",
       "    .dataframe tbody tr th:only-of-type {\n",
       "        vertical-align: middle;\n",
       "    }\n",
       "\n",
       "    .dataframe tbody tr th {\n",
       "        vertical-align: top;\n",
       "    }\n",
       "\n",
       "    .dataframe thead th {\n",
       "        text-align: right;\n",
       "    }\n",
       "</style>\n",
       "<table border=\"1\" class=\"dataframe\">\n",
       "  <thead>\n",
       "    <tr style=\"text-align: right;\">\n",
       "      <th></th>\n",
       "      <th>0</th>\n",
       "    </tr>\n",
       "  </thead>\n",
       "  <tbody>\n",
       "    <tr>\n",
       "      <td>0</td>\n",
       "      <td>1.760119</td>\n",
       "    </tr>\n",
       "    <tr>\n",
       "      <td>1</td>\n",
       "      <td>1.644942</td>\n",
       "    </tr>\n",
       "    <tr>\n",
       "      <td>2</td>\n",
       "      <td>1.654540</td>\n",
       "    </tr>\n",
       "    <tr>\n",
       "      <td>3</td>\n",
       "      <td>0.881356</td>\n",
       "    </tr>\n",
       "    <tr>\n",
       "      <td>4</td>\n",
       "      <td>1.195962</td>\n",
       "    </tr>\n",
       "    <tr>\n",
       "      <td>...</td>\n",
       "      <td>...</td>\n",
       "    </tr>\n",
       "    <tr>\n",
       "      <td>17604</td>\n",
       "      <td>-1.161984</td>\n",
       "    </tr>\n",
       "    <tr>\n",
       "      <td>17605</td>\n",
       "      <td>-1.172648</td>\n",
       "    </tr>\n",
       "    <tr>\n",
       "      <td>17606</td>\n",
       "      <td>-1.010546</td>\n",
       "    </tr>\n",
       "    <tr>\n",
       "      <td>17607</td>\n",
       "      <td>-1.091597</td>\n",
       "    </tr>\n",
       "    <tr>\n",
       "      <td>17608</td>\n",
       "      <td>-1.041474</td>\n",
       "    </tr>\n",
       "  </tbody>\n",
       "</table>\n",
       "<p>17609 rows × 1 columns</p>\n",
       "</div>"
      ],
      "text/plain": [
       "              0\n",
       "0      1.760119\n",
       "1      1.644942\n",
       "2      1.654540\n",
       "3      0.881356\n",
       "4      1.195962\n",
       "...         ...\n",
       "17604 -1.161984\n",
       "17605 -1.172648\n",
       "17606 -1.010546\n",
       "17607 -1.091597\n",
       "17608 -1.041474\n",
       "\n",
       "[17609 rows x 1 columns]"
      ]
     },
     "execution_count": 24,
     "metadata": {},
     "output_type": "execute_result"
    }
   ],
   "source": [
    "from sklearn.preprocessing import StandardScaler\n",
    "sc=StandardScaler()\n",
    "sc.fit(y)\n",
    "y=sc.transform(y)\n",
    "y=pd.DataFrame(y)\n",
    "y"
   ]
  },
  {
   "cell_type": "code",
   "execution_count": 25,
   "metadata": {},
   "outputs": [],
   "source": [
    "from sklearn.metrics import r2_score\n",
    "def maxr2score(cm,x,y):\n",
    "    maxr2=0\n",
    "    rs=0\n",
    "    for r_state in range(0,150):\n",
    "        x_train,x_test,y_train,y_test=train_test_split(x, y,random_state = r_state,test_size=0.2)\n",
    "        cm.fit(x_train,y_train)\n",
    "        y_pred=cm.predict(x_test)\n",
    "        rsc=r2_score(y_test,y_pred)\n",
    "        if rsc>maxr2:\n",
    "            maxr2=rsc\n",
    "            rs=r_state\n",
    "    print(\"Maximum r2_score is at random state :\",rs,\" and it is :\",maxr2)"
   ]
  },
  {
   "cell_type": "code",
   "execution_count": 26,
   "metadata": {},
   "outputs": [
    {
     "name": "stdout",
     "output_type": "stream",
     "text": [
      "The mean absolute error for linear regression model is : 0.477644822483737\n",
      "The mean square error for linear regression model is : 0.4182081080411587\n",
      "The root mean square error for linear regression model is : 0.6466901174760279\n"
     ]
    }
   ],
   "source": [
    "# Using Linear regression model\n",
    "from sklearn.linear_model import LinearRegression\n",
    "x_train, x_test, y_train, y_test = train_test_split(x,y,random_state=42,test_size=.20)\n",
    "lr=LinearRegression()\n",
    "lr.fit(x_train,y_train)\n",
    "predicty=lr.predict(x_test)\n",
    "print('The mean absolute error for linear regression model is :', mean_absolute_error(y_test, predicty))\n",
    "print('The mean square error for linear regression model is :', mean_squared_error(y_test, predicty))\n",
    "print('The root mean square error for linear regression model is :', np.sqrt(mean_squared_error(y_test, predicty)))"
   ]
  },
  {
   "cell_type": "code",
   "execution_count": 27,
   "metadata": {},
   "outputs": [
    {
     "name": "stdout",
     "output_type": "stream",
     "text": [
      "Mean r2 score for Linear regression after cross validation:  0.4911304778487719\n",
      "Standard deviation for Linear regression from mean r2 score is :  0.09015390677471848\n"
     ]
    }
   ],
   "source": [
    "print(\"Mean r2 score for Linear regression after cross validation: \", cross_val_score(lr,x,y,cv=5,scoring=\"r2\").mean())\n",
    "print(\"Standard deviation for Linear regression from mean           r2 score is : \", cross_val_score(lr,x,y,cv=5,scoring=\"r2\").std())"
   ]
  },
  {
   "cell_type": "code",
   "execution_count": 35,
   "metadata": {},
   "outputs": [
    {
     "data": {
      "text/plain": [
       "{'alpha': 0.0001}"
      ]
     },
     "execution_count": 35,
     "metadata": {},
     "output_type": "execute_result"
    }
   ],
   "source": [
    "# Using Ridge regression\n",
    "from sklearn.linear_model import Ridge\n",
    "rr=Ridge()\n",
    "hyperparametersrr={'alpha':[0.0001, 0.001, 0.01, 0.1, 1, 10, 100]}\n",
    "gridrr = GridSearchCV(rr, hyperparametersrr, cv=10)\n",
    "gridrr.fit(x,y)\n",
    "gridrr.best_params_"
   ]
  },
  {
   "cell_type": "code",
   "execution_count": 36,
   "metadata": {},
   "outputs": [
    {
     "name": "stdout",
     "output_type": "stream",
     "text": [
      "Maximum r2_score is at random state : 110  and it is : 0.6354483401794311\n"
     ]
    }
   ],
   "source": [
    "from sklearn.linear_model import Ridge\n",
    "rr=Ridge(alpha=0.0001)\n",
    "maxr2score(rr,x,y)"
   ]
  },
  {
   "cell_type": "code",
   "execution_count": 38,
   "metadata": {},
   "outputs": [
    {
     "name": "stdout",
     "output_type": "stream",
     "text": [
      "Mean r2 score for Ridge regression after cross validation:  0.49113047561560175\n",
      "Standard deviation for Ridge regression from mean r2 score is :  0.09015390787694326\n"
     ]
    }
   ],
   "source": [
    "print(\"Mean r2 score for Ridge regression after cross validation: \", cross_val_score(rr,x,y,cv=5,scoring=\"r2\").mean())\n",
    "print(\"Standard deviation for Ridge regression from mean r2 score is : \", cross_val_score(rr,x,y,cv=5,scoring=\"r2\").std())"
   ]
  },
  {
   "cell_type": "code",
   "execution_count": 39,
   "metadata": {},
   "outputs": [
    {
     "data": {
      "text/plain": [
       "{'alpha': 0.0001}"
      ]
     },
     "execution_count": 39,
     "metadata": {},
     "output_type": "execute_result"
    }
   ],
   "source": [
    "# Using Lasso regression\n",
    "from sklearn.linear_model import Lasso\n",
    "lar=Lasso()\n",
    "hyperparameterlar={'alpha':[0.0001, 0.001, 0.01, 0.1, 1, 10, 100]}\n",
    "gridlar = GridSearchCV(lar, hyperparameterlar, cv=5)\n",
    "gridlar.fit(x,y)\n",
    "gridlar.best_params_"
   ]
  },
  {
   "cell_type": "code",
   "execution_count": 40,
   "metadata": {},
   "outputs": [
    {
     "name": "stdout",
     "output_type": "stream",
     "text": [
      "Maximum r2_score is at random state : 110  and it is : 0.6353980708397684\n"
     ]
    }
   ],
   "source": [
    "from sklearn.linear_model import Lasso\n",
    "lar=Lasso(alpha=0.0001)\n",
    "maxr2score(lar,x,y)"
   ]
  },
  {
   "cell_type": "code",
   "execution_count": 41,
   "metadata": {},
   "outputs": [
    {
     "name": "stdout",
     "output_type": "stream",
     "text": [
      "Mean r2 score for Lasso regression after cross validation:  0.49106779404321166\n",
      "Standard deviation for Lasso regression from mean r2 score is :  0.09018800834888709\n"
     ]
    }
   ],
   "source": [
    "print(\"Mean r2 score for Lasso regression after cross validation: \", cross_val_score(lar,x,y,cv=5,scoring=\"r2\").mean())\n",
    "print(\"Standard deviation for Lasso regression from mean r2 score is : \", cross_val_score(lar,x,y,cv=5,scoring=\"r2\").std())"
   ]
  },
  {
   "cell_type": "code",
   "execution_count": 42,
   "metadata": {},
   "outputs": [
    {
     "data": {
      "text/plain": [
       "{'n_neighbors': 11}"
      ]
     },
     "execution_count": 42,
     "metadata": {},
     "output_type": "execute_result"
    }
   ],
   "source": [
    "# Using KNN regressor\n",
    "from sklearn.model_selection import GridSearchCV\n",
    "from sklearn.neighbors import KNeighborsRegressor\n",
    "knr=KNeighborsRegressor()\n",
    "hyperparameter={\"n_neighbors\":range(1,12)}\n",
    "gridknr = GridSearchCV(knr, hyperparameter, cv=5, n_jobs=-1)\n",
    "gridknr.fit(x,y)\n",
    "gridknr.best_params_"
   ]
  },
  {
   "cell_type": "code",
   "execution_count": 43,
   "metadata": {},
   "outputs": [
    {
     "name": "stdout",
     "output_type": "stream",
     "text": [
      "Maximum r2_score is at random state : 34  and it is : 0.7159812788359348\n"
     ]
    }
   ],
   "source": [
    "from sklearn.neighbors import KNeighborsRegressor\n",
    "knr=KNeighborsRegressor(n_neighbors=11)\n",
    "maxr2score(knr,x,y)"
   ]
  },
  {
   "cell_type": "code",
   "execution_count": 90,
   "metadata": {},
   "outputs": [
    {
     "name": "stdout",
     "output_type": "stream",
     "text": [
      "Mean r2 score for KNeighborsRegressor after cross validation:  0.4524240598881413\n",
      "Standard deviation for KNeighborsRegressor from mean r2 score is :  0.08535259372027969\n"
     ]
    }
   ],
   "source": [
    "print(\"Mean r2 score for KNeighborsRegressor after cross validation: \", cross_val_score(knr,x,y,cv=5,scoring=\"r2\").mean())\n",
    "print(\"Standard deviation for KNeighborsRegressor from mean r2 score is : \", cross_val_score(knr,x,y,cv=5,scoring=\"r2\").std())"
   ]
  },
  {
   "cell_type": "code",
   "execution_count": 91,
   "metadata": {},
   "outputs": [
    {
     "name": "stdout",
     "output_type": "stream",
     "text": [
      "{'criterion': 'mse', 'max_depth': 1}\n"
     ]
    }
   ],
   "source": [
    "# Using Decision Tree Regressor\n",
    "from sklearn.tree import DecisionTreeRegressor\n",
    "dtr=DecisionTreeRegressor()\n",
    "hyperparametersdtr={'criterion':['mse','mae'],'max_depth':range(1,2)}\n",
    "griddtr=GridSearchCV(dtr, hyperparametersdtr, cv=5, scoring='r2')\n",
    "griddtr.fit(x,y)\n",
    "print(griddtr.best_params_)"
   ]
  },
  {
   "cell_type": "code",
   "execution_count": 93,
   "metadata": {},
   "outputs": [
    {
     "name": "stdout",
     "output_type": "stream",
     "text": [
      "Maximum r2_score is at random state : 110  and it is : 0.30088527128568865\n"
     ]
    }
   ],
   "source": [
    "from sklearn.tree import DecisionTreeRegressor\n",
    "dtr=DecisionTreeRegressor(criterion='mse', max_depth=1)\n",
    "maxr2score(dtr,x,y)"
   ]
  },
  {
   "cell_type": "code",
   "execution_count": 94,
   "metadata": {},
   "outputs": [
    {
     "name": "stdout",
     "output_type": "stream",
     "text": [
      "Mean r2 score for Decision Tree Regressor after cross validation:  0.15969384888113153\n",
      "Standard deviation for Decision Tree Regressor from mean r2 score is :  0.0818170706315439\n"
     ]
    }
   ],
   "source": [
    "print(\"Mean r2 score for Decision Tree Regressor after cross validation: \", cross_val_score(dtr,x,y,cv=5,scoring=\"r2\").mean())\n",
    "print(\"Standard deviation for Decision Tree Regressor from mean r2 score is : \", cross_val_score(dtr,x,y,cv=5,scoring=\"r2\").std())"
   ]
  },
  {
   "cell_type": "code",
   "execution_count": 100,
   "metadata": {},
   "outputs": [
    {
     "name": "stdout",
     "output_type": "stream",
     "text": [
      "The mean absolute error for linear regression model is : 0.4875024547582616\n",
      "The mean square error for linear regression model is : 0.42888144995853533\n",
      "The root mean square error for linear regression model is : 0.6548904106478697\n"
     ]
    }
   ],
   "source": [
    "x_train, x_test, y_train, y_test = train_test_split(x,y,random_state=42,test_size=.20)\n",
    "lr=LinearRegression()\n",
    "lr.fit(x_train,y_train)\n",
    "predictlry=lr.predict(x_test)\n",
    "print('The mean absolute error for linear regression model is :', mean_absolute_error(y_test, predictlry))\n",
    "print('The mean square error for linear regression model is :', mean_squared_error(y_test, predictlry))\n",
    "print('The root mean square error for linear regression model is :', np.sqrt(mean_squared_error(y_test, predictlry)))"
   ]
  },
  {
   "cell_type": "code",
   "execution_count": 117,
   "metadata": {},
   "outputs": [
    {
     "data": {
      "text/plain": [
       "['California.pkl']"
      ]
     },
     "execution_count": 117,
     "metadata": {},
     "output_type": "execute_result"
    }
   ],
   "source": [
    "from sklearn.externals import joblib\n",
    "joblib.dump(lr,'California.pkl')"
   ]
  }
 ],
 "metadata": {
  "kernelspec": {
   "display_name": "Python 3",
   "language": "python",
   "name": "python3"
  },
  "language_info": {
   "codemirror_mode": {
    "name": "ipython",
    "version": 3
   },
   "file_extension": ".py",
   "mimetype": "text/x-python",
   "name": "python",
   "nbconvert_exporter": "python",
   "pygments_lexer": "ipython3",
   "version": "3.7.4"
  }
 },
 "nbformat": 4,
 "nbformat_minor": 2
}
